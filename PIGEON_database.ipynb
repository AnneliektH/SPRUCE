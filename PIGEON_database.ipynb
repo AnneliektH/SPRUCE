{
 "cells": [
  {
   "cell_type": "markdown",
   "metadata": {},
   "source": [
    "## Putting together the PIGEON database\n",
    "Anneliek ter Horst\n",
    "\n",
    "1. Download all available viral contigs from datasets specified in the paper\n",
    "2. Retain only contigs >= 10 kb, unless it is RefSeq data\n",
    "3. Cluster viral contigs into vOTUs using cd-hit\n"
   ]
  },
  {
   "cell_type": "markdown",
   "metadata": {},
   "source": [
    "## Retain only contigs => 10kb\n",
    "- For each fasta file of viral contigs that is downloaded, retain only the contigs => 10 kb\n",
    "- Except for the RefSeq (Pruitt et al., 2009) file and the Gregory et al., 2019 file (bc circular or >10kb)\n",
    "- Using the bbtools reformat tool\n",
    "- https://jgi.doe.gov/data-and-tools/bbtools/bb-tools-user-guide/reformat-guide/"
   ]
  },
  {
   "cell_type": "code",
   "execution_count": null,
   "metadata": {},
   "outputs": [],
   "source": [
    "reformat.sh in=in_file.fa out=out_file_10k.fa minlength=10000"
   ]
  },
  {
   "cell_type": "markdown",
   "metadata": {},
   "source": [
    "## Concatenate all fasta files to one big fasta file\n",
    "- Use the Linux cat command"
   ]
  },
  {
   "cell_type": "code",
   "execution_count": null,
   "metadata": {},
   "outputs": [],
   "source": [
    "cat fasta1.fa fasta2.fa fasta3.fa fastax.fa >> all_fastas.fa"
   ]
  },
  {
   "cell_type": "markdown",
   "metadata": {},
   "source": [
    "## Cluster all viral contigs into vOTUs using cd-hit\n",
    "- Clustering sequences at 95% ANI over 85% of the sequence, relative to the shorter sequence\n",
    "- https://github.com/weizhongli/cdhit/wiki/2.-Installation\n",
    "- Using cd-hit-est"
   ]
  },
  {
   "cell_type": "code",
   "execution_count": null,
   "metadata": {},
   "outputs": [],
   "source": [
    "cd-hit-est-2d \\\n",
    "-i all_fastas.fa \\\n",
    "-o all_fastas_clustered.fa \\\n",
    "-c 0.95 -aS 0.85 "
   ]
  }
 ],
 "metadata": {
  "kernelspec": {
   "display_name": "Python 3",
   "language": "python",
   "name": "python3"
  },
  "language_info": {
   "codemirror_mode": {
    "name": "ipython",
    "version": 2
   },
   "file_extension": ".py",
   "mimetype": "text/x-python",
   "name": "python",
   "nbconvert_exporter": "python",
   "pygments_lexer": "ipython2",
   "version": "2.7.16"
  }
 },
 "nbformat": 4,
 "nbformat_minor": 2
}
